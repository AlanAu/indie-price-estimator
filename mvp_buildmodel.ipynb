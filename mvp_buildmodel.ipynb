{
 "cells": [
  {
   "cell_type": "markdown",
   "metadata": {},
   "source": [
    "This is a workbook to play around with models and save one for use in my demo."
   ]
  },
  {
   "cell_type": "code",
   "execution_count": 1,
   "metadata": {},
   "outputs": [
    {
     "name": "stdout",
     "output_type": "stream",
     "text": [
      "random seed: 6702\n"
     ]
    }
   ],
   "source": [
    "'''This is my setup block.'''\n",
    "from sqlalchemy import create_engine #SQL\n",
    "from sqlalchemy_utils import database_exists, create_database #SQL\n",
    "import psycopg2 #SQL\n",
    "import pandas as pd #SQL, python\n",
    "\n",
    "import numpy as np #sklearn\n",
    "import matplotlib.pyplot as plt #sklearn\n",
    "from sklearn.model_selection import train_test_split #sklearn\n",
    "\n",
    "from sklearn.tree import DecisionTreeRegressor #sklearn decision tree\n",
    "from sklearn.ensemble import RandomForestRegressor #random forest regressor\n",
    "from sklearn.ensemble import RandomForestClassifier #random forest classifier\n",
    "from sklearn.multioutput import MultiOutputRegressor #random forest\n",
    "from sklearn import svm #SVM\n",
    "from sklearn.decomposition import PCA #PCA\n",
    "from sklearn.metrics import confusion_matrix #for validation\n",
    "\n",
    "import pickle #for saving off a trained model\n",
    "\n",
    "import time #python\n",
    "from datetime import date\n",
    "start = time.mktime(time.localtime())\n",
    "\n",
    "%matplotlib inline\n",
    "\n",
    "dbname = 'steamspy'\n",
    "username = 'alan'\n",
    "engine = create_engine('postgres://%s@localhost/%s'%(username,dbname))\n",
    "\n",
    "#seed = np.random.randint(0,high=10000)\n",
    "seed = 6702 \n",
    "print(\"random seed:\",seed)"
   ]
  },
  {
   "cell_type": "code",
   "execution_count": 9,
   "metadata": {
    "collapsed": true
   },
   "outputs": [],
   "source": [
    "#sql_query = '''SELECT appid FROM indie_demo;'''\n",
    "#appids = pd.read_sql_query(sql_query,engine)\n",
    "##appids = [413150] #placeholder, replace with actual DF\n",
    "#print(\"Retrieved appids from SQL\")"
   ]
  },
  {
   "cell_type": "markdown",
   "metadata": {},
   "source": [
    "This next section handles my database calls. I also want to remove \"free\" games from my dataset, since they (presumably) use a different revenue model for which I can't get data. The reporting numbers are just a sanity check to see how many titles I pull out. Right now, they're about 7500, which is enough to make me reasonably happy I can do something with the data."
   ]
  },
  {
   "cell_type": "code",
   "execution_count": 2,
   "metadata": {},
   "outputs": [
    {
     "name": "stdout",
     "output_type": "stream",
     "text": [
      "indies: 7573\n"
     ]
    }
   ],
   "source": [
    "#pull from DB:steamspy TABLE:indie_demo\n",
    "#do some data preprocessing to create a usable pandas dataframe that I can feed into sklearn\n",
    "\n",
    "'''pull all of my pre-processed indie data'''\n",
    "sql_query = '''SELECT * FROM indie_demo;'''\n",
    "indies = pd.read_sql_query(sql_query,engine)\n",
    "#indies.fillna(value=0,inplace=True)\n",
    "\n",
    "print(\"indies:\",len(indies)) #debug: how many records did I pull?\n",
    "#list(indies)"
   ]
  },
  {
   "cell_type": "code",
   "execution_count": 3,
   "metadata": {},
   "outputs": [
    {
     "name": "stdout",
     "output_type": "stream",
     "text": [
      "Done!\n"
     ]
    }
   ],
   "source": [
    "#Get rid of the things that scale with owners/revenue and unique identifiers (appid, name) that mess things up\n",
    "dropnames = ['index','appid','name','developer','publisher','release']\n",
    "dropscale = ['postowners','newowners','saleprice','price','salerevenue']\n",
    "to_output = indies['price']\n",
    "to_input = indies.drop(dropnames,axis=1)\n",
    "to_input.drop(dropscale,axis=1,inplace=True)\n",
    "\n",
    "#I want my training input to be the 'to_input' dataframe\n",
    "input_train, input_test, output_train, output_test = \\\n",
    "    train_test_split(to_input, to_output, test_size=0.2, random_state=seed)\n",
    "    #training output should be revenue_category\n",
    "\n",
    "#list(to_input) #debug\n",
    "print(\"Done!\")"
   ]
  },
  {
   "cell_type": "markdown",
   "metadata": {},
   "source": [
    "Now I have a dataframe that I can put into a model, so go ahead and use sklearn to do that.\n",
    "\n",
    "Here's some sample code for a decision tree with multiple outputs. http://scikit-learn.org/stable/auto_examples/tree/plot_tree_regression_multioutput.html"
   ]
  },
  {
   "cell_type": "code",
   "execution_count": 147,
   "metadata": {},
   "outputs": [
    {
     "data": {
      "text/plain": [
       "'\\n#Fit a decision tree regression model\\ndec_tree = DecisionTreeRegressor(max_depth=14) #change the depth to adjust model\\ndec_tree.fit(input_train, output_train)\\n\\n#Spot test my model\\ntest = np.random.randint(0,high=len(input_test))\\ntest_input = input_test.iloc[test].values.reshape(1,-1)\\nprint(input_test.iloc[test])\\n\\nprediction = dec_tree.predict(test_input)\\n\\nprint(\"Prediction:\",prediction)\\nprint(\"Actual value is:\",output_test.iloc[test])\\n'"
      ]
     },
     "execution_count": 147,
     "metadata": {},
     "output_type": "execute_result"
    }
   ],
   "source": [
    "'''\n",
    "#Fit a decision tree regression model\n",
    "dec_tree = DecisionTreeRegressor(max_depth=14) #change the depth to adjust model\n",
    "dec_tree.fit(input_train, output_train)\n",
    "\n",
    "#Spot test my model\n",
    "test = np.random.randint(0,high=len(input_test))\n",
    "test_input = input_test.iloc[test].values.reshape(1,-1)\n",
    "print(input_test.iloc[test])\n",
    "\n",
    "prediction = dec_tree.predict(test_input)\n",
    "\n",
    "print(\"Prediction:\",prediction)\n",
    "print(\"Actual value is:\",output_test.iloc[test])\n",
    "'''"
   ]
  },
  {
   "cell_type": "code",
   "execution_count": 4,
   "metadata": {},
   "outputs": [
    {
     "name": "stdout",
     "output_type": "stream",
     "text": [
      "Done!\n"
     ]
    }
   ],
   "source": [
    "#Fit a random forest regression model\n",
    "'''\n",
    "class sklearn.ensemble.RandomForestRegressor\n",
    "(n_estimators=10, criterion='mse', max_depth=None, min_samples_split=2, \n",
    "min_samples_leaf=1, min_weight_fraction_leaf=0.0, max_features='auto', \n",
    "max_leaf_nodes=None, min_impurity_split=1e-07, bootstrap=True, \n",
    "oob_score=False, n_jobs=1, random_state=None, verbose=0, warm_start=False)\n",
    "'''\n",
    "\n",
    "max_depth = None\n",
    "max_trees = 40\n",
    "\n",
    "regr_rf = RandomForestRegressor(n_estimators = max_trees, \n",
    "                                max_depth=max_depth, random_state=2, \n",
    "                                oob_score=True, warm_start=True)\n",
    "regr_rf.fit(input_train, output_train)\n",
    "\n",
    "#with open('saved_rf.pkl', 'wb') as fid:\n",
    "#    pickle.dump(regr_rf, fid)\n",
    "print(\"Done!\")"
   ]
  },
  {
   "cell_type": "code",
   "execution_count": null,
   "metadata": {
    "collapsed": true
   },
   "outputs": [],
   "source": []
  },
  {
   "cell_type": "code",
   "execution_count": 5,
   "metadata": {},
   "outputs": [
    {
     "name": "stdout",
     "output_type": "stream",
     "text": [
      "OOB score is: 0.171378492869\n",
      "feature_importances_: [ 0.05996026  0.136154    0.06064919  0.07205666  0.07947742  0.05980752\n",
      "  0.11445901  0.05513587  0.07453865  0.01292142  0.01376393  0.00731846\n",
      "  0.02674321  0.00365759  0.00225332  0.00900984  0.01186005  0.00212524\n",
      "  0.00886414  0.02683979  0.00254942  0.00380814  0.00338283  0.00499291\n",
      "  0.00705039  0.00196759  0.00586265  0.00976555  0.02179711  0.00099469\n",
      "  0.00648334  0.00816821  0.01277065  0.00318281  0.00265599  0.00385879\n",
      "  0.02707219  0.00612011  0.00217765  0.02221529  0.00241077  0.00311734]\n"
     ]
    }
   ],
   "source": [
    "print(\"OOB score is:\",regr_rf.oob_score_)\n",
    "print(\"feature_importances_:\",regr_rf.feature_importances_)"
   ]
  },
  {
   "cell_type": "code",
   "execution_count": 42,
   "metadata": {},
   "outputs": [
    {
     "data": {
      "text/plain": [
       "'\\nstart = time.mktime(time.localtime())\\nprint(\"Training RF classifier...\")\\n\\nmax_depth = None\\n#example: RandomForestClassifier(n_estimators=10, criterion=\\'gini\\', max_depth=None, min_samples_split=2, min_samples_leaf=1, min_weight_fraction_leaf=0.0, max_features=\\'auto\\', max_leaf_nodes=None, min_impurity_split=1e-07, bootstrap=True, oob_score=False, n_jobs=1, random_state=None, verbose=0, warm_start=False, class_weight=None)[source]¶\\n\\nclf_rf = RandomForestClassifier(n_estimators=20, max_depth=max_depth, random_state=2)\\nclf_rf.fit(input_train, output_train)\\n\\nfinish = time.mktime(time.localtime())\\nruntime = finish - start\\nprint(\"Finished processing in\",runtime,\"seconds!\")\\n'"
      ]
     },
     "execution_count": 42,
     "metadata": {},
     "output_type": "execute_result"
    }
   ],
   "source": [
    "#Fit a random forest classifier model\n",
    "'''\n",
    "start = time.mktime(time.localtime())\n",
    "print(\"Training RF classifier...\")\n",
    "\n",
    "max_depth = None\n",
    "#example: RandomForestClassifier(n_estimators=10, criterion='gini', max_depth=None, min_samples_split=2, min_samples_leaf=1, min_weight_fraction_leaf=0.0, max_features='auto', max_leaf_nodes=None, min_impurity_split=1e-07, bootstrap=True, oob_score=False, n_jobs=1, random_state=None, verbose=0, warm_start=False, class_weight=None)[source]¶\n",
    "\n",
    "clf_rf = RandomForestClassifier(n_estimators=20, max_depth=max_depth, random_state=2)\n",
    "clf_rf.fit(input_train, output_train)\n",
    "\n",
    "finish = time.mktime(time.localtime())\n",
    "runtime = finish - start\n",
    "print(\"Finished processing in\",runtime,\"seconds!\")\n",
    "'''"
   ]
  },
  {
   "cell_type": "code",
   "execution_count": 46,
   "metadata": {},
   "outputs": [
    {
     "data": {
      "text/plain": [
       "'\\nc_values = [.1, 1.0, 10.0, 100]\\ngamma_values = [1e-12, 1e-11, 1e-10, 1e-9, 1e-8, 1e-7]\\nsvm_models = {}\\ndef train_svms():\\n    for c in c_values:\\n        svm_models[c] = {}\\n        for gamma in gamma_values:\\n            clf_svm = svm.SVC(C=c, tol=1e-10, cache_size=600, kernel=\\'rbf\\', gamma=gamma, class_weight=\\'balanced\\')\\n            clf_svm.fit(input_train, output_train) #takes about 17 seconds\\n            svm_models[c][gamma] = clf_svm\\n\\n\\n\\nstart = time.mktime(time.localtime())\\nprint(\"Training SVM classifier...\")\\ntrain_svms() #do a thing\\n\\nfinish = time.mktime(time.localtime())\\nruntime = finish - start\\nprint(\"Finished processing in\",runtime,\"seconds!\")\\n'"
      ]
     },
     "execution_count": 46,
     "metadata": {},
     "output_type": "execute_result"
    }
   ],
   "source": [
    "#Let's try an SVM\n",
    "'''\n",
    "c_values = [.1, 1.0, 10.0, 100]\n",
    "gamma_values = [1e-12, 1e-11, 1e-10, 1e-9, 1e-8, 1e-7]\n",
    "svm_models = {}\n",
    "def train_svms():\n",
    "    for c in c_values:\n",
    "        svm_models[c] = {}\n",
    "        for gamma in gamma_values:\n",
    "            clf_svm = svm.SVC(C=c, tol=1e-10, cache_size=600, kernel='rbf', gamma=gamma, class_weight='balanced')\n",
    "            clf_svm.fit(input_train, output_train) #takes about 17 seconds\n",
    "            svm_models[c][gamma] = clf_svm\n",
    "\n",
    "\n",
    "\n",
    "start = time.mktime(time.localtime())\n",
    "print(\"Training SVM classifier...\")\n",
    "train_svms() #do a thing\n",
    "\n",
    "finish = time.mktime(time.localtime())\n",
    "runtime = finish - start\n",
    "print(\"Finished processing in\",runtime,\"seconds!\")\n",
    "'''\n",
    "\n",
    "#clf = svm_models[1000][1e-10] #change these values to inspect individual models"
   ]
  },
  {
   "cell_type": "code",
   "execution_count": 67,
   "metadata": {},
   "outputs": [
    {
     "name": "stdout",
     "output_type": "stream",
     "text": [
      "Training SVM classifier...\n",
      "Finished processing in 949.0 seconds!\n"
     ]
    }
   ],
   "source": [
    "#Let's try an SVM\n",
    "#SVR(C=1.0, cache_size=200, coef0=0.0, degree=3, epsilon=0.2, gamma='auto',\n",
    "#    kernel='rbf', max_iter=-1, shrinking=True, tol=0.001, verbose=False)\n",
    "    \n",
    "c_values = [.1, 1.0, 10.0, 100, 1000]\n",
    "gamma_values = [1e-12, 1e-11, 1e-10, 1e-9, 1e-8]\n",
    "svm_models = {}\n",
    "def train_svms():\n",
    "    for c in c_values:\n",
    "        svm_models[c] = {}\n",
    "        for g in gamma_values:\n",
    "            clf_svm = svm.SVR(C=c, tol=1e-10, cache_size=600, kernel='rbf', gamma=g)\n",
    "            clf_svm.fit(input_train, output_train) #takes about 17 seconds\n",
    "            svm_models[c][g] = clf_svm\n",
    "\n",
    "start = time.mktime(time.localtime())\n",
    "print(\"Training SVM classifier...\")\n",
    "train_svms() #do a thing\n",
    "\n",
    "finish = time.mktime(time.localtime())\n",
    "runtime = finish - start\n",
    "print(\"Finished processing in\",runtime,\"seconds!\")\n",
    "\n",
    "\n",
    "#clf = svm_models[1000][1e-10] #change these values to inspect individual models"
   ]
  },
  {
   "cell_type": "code",
   "execution_count": 71,
   "metadata": {},
   "outputs": [
    {
     "name": "stdout",
     "output_type": "stream",
     "text": [
      "Training K-neighbor regressor...\n",
      "Finished processing in 0.0 seconds!\n"
     ]
    }
   ],
   "source": [
    "from sklearn.neighbors import KNeighborsRegressor\n",
    "start = time.mktime(time.localtime())\n",
    "print(\"Training K-neighbor regressor...\")\n",
    "      \n",
    "regr_kn = KNeighborsRegressor(n_neighbors=8)\n",
    "regr_kn.fit(input_train, output_train) \n",
    "\n",
    "finish = time.mktime(time.localtime())\n",
    "runtime = finish - start\n",
    "print(\"Finished processing in\",runtime,\"seconds!\")"
   ]
  },
  {
   "cell_type": "code",
   "execution_count": 9,
   "metadata": {},
   "outputs": [
    {
     "data": {
      "text/plain": [
       "<matplotlib.text.Annotation at 0x7fb13a4a4a58>"
      ]
     },
     "execution_count": 9,
     "metadata": {},
     "output_type": "execute_result"
    },
    {
     "data": {
      "image/png": "[encoded data removed]",
      "text/plain": [
       "<matplotlib.figure.Figure at 0x7fb13a7c03c8>"
      ]
     },
     "metadata": {},
     "output_type": "display_data"
    }
   ],
   "source": [
    "#run my entire test set\n",
    "def test_model(model):\n",
    "    results = {}\n",
    "    for i in range(len(input_test)):\n",
    "        test_input = input_test.iloc[i].values.reshape(1,-1)\n",
    "        prediction = model.predict(test_input)\n",
    "        results[i] = {}\n",
    "        #print(\"Prediction:\",prediction[0])\n",
    "        results[i]['prediction'] = prediction[0]\n",
    "        #print(\"Actual value is:\",output_test.iloc[i])\n",
    "        results[i]['actual'] = output_test.iloc[i]\n",
    "    return(results)\n",
    "\n",
    "results_df = pd.DataFrame.from_dict(test_model(regr_rf),orient='index')\n",
    "#print(results_df)\n",
    "\n",
    "x_cap = 28\n",
    "y_cap = 28\n",
    "\n",
    "plt.rcParams[\"figure.figsize\"] = [7,6]\n",
    "\n",
    "plt.scatter(results_df['prediction'],results_df['actual'],color='green',marker='s',alpha=0.03,s=100)\n",
    "plt.plot(np.arange(0,x_cap), np.arange(0,y_cap), color='green', linestyle=\"--\", alpha=1)\n",
    "\n",
    "plt.xlim([0,x_cap])\n",
    "plt.ylim([0,y_cap])\n",
    "plt.xlabel('Predicted Price ($)', fontsize = '20')\n",
    "plt.ylabel('Actual Price ($)', fontsize = '20')\n",
    "plt.annotate(\"Ideal Prediction\", (19.5,27), color=\"green\", fontsize='15', rotation=40)\n",
    "\n",
    "#plt.title('Actual vs. Predicted Price (USD)', fontsize = '24')"
   ]
  },
  {
   "cell_type": "code",
   "execution_count": 45,
   "metadata": {},
   "outputs": [
    {
     "name": "stdout",
     "output_type": "stream",
     "text": [
      "Done!\n"
     ]
    }
   ],
   "source": [
    "'''I probably want to save my trained model at some point so I don't have to keep rebuilding it at runtime.'''\n",
    "\n",
    "#import cPickle\n",
    "# save the classifier\n",
    "with open('saved_model.pkl', 'wb') as fid:\n",
    "    pickle.dump(regr_rf, fid)    \n",
    "\n",
    "#Can load it again later with this code\n",
    "#with open('saved_model.pkl', 'rb') as fid:\n",
    "#    clf = pickle.load(fid)\n",
    "print(\"Done!\")"
   ]
  },
  {
   "cell_type": "code",
   "execution_count": 70,
   "metadata": {},
   "outputs": [
    {
     "name": "stdout",
     "output_type": "stream",
     "text": [
      "Finished processing in 69.0 seconds!\n"
     ]
    }
   ],
   "source": [
    "finish = time.mktime(time.localtime())\n",
    "runtime = finish - start\n",
    "print(\"Finished processing in\",runtime,\"seconds!\")"
   ]
  },
  {
   "cell_type": "code",
   "execution_count": null,
   "metadata": {
    "collapsed": true
   },
   "outputs": [],
   "source": []
  }
 ],
 "metadata": {
  "kernelspec": {
   "display_name": "Python 3",
   "language": "python",
   "name": "python3"
  },
  "language_info": {
   "codemirror_mode": {
    "name": "ipython",
    "version": 3
   },
   "file_extension": ".py",
   "mimetype": "text/x-python",
   "name": "python",
   "nbconvert_exporter": "python",
   "pygments_lexer": "ipython3",
   "version": "3.6.1"
  }
 },
 "nbformat": 4,
 "nbformat_minor": 2
}
